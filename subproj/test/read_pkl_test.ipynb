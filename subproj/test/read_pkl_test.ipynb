{
 "cells": [
  {
   "cell_type": "code",
   "execution_count": 3,
   "metadata": {},
   "outputs": [
    {
     "name": "stdout",
     "output_type": "stream",
     "text": [
      "840.2826433567731\n"
     ]
    }
   ],
   "source": [
    "import pandas as pd\n",
    "df = pd.read_pickle('/data/theorie/pherbsch/ML4EFT/subproj/code/cluster/downloads/training_data/tt_parton_shower_ctu8/events_0.pkl.gz',compression='gzip')\n",
    "print(max(df[\"pt_e\"]))"
   ]
  },
  {
   "cell_type": "code",
   "execution_count": 17,
   "metadata": {},
   "outputs": [
    {
     "name": "stdout",
     "output_type": "stream",
     "text": [
      "            pt_e\n",
      "0       0.015963\n",
      "1       1.201448\n",
      "2       4.256246\n",
      "3       0.106801\n",
      "4       1.819572\n",
      "...          ...\n",
      "99996   0.036583\n",
      "99997   0.777991\n",
      "99998   0.271573\n",
      "99999   0.768522\n",
      "100000  0.884027\n",
      "\n",
      "[100001 rows x 1 columns]\n"
     ]
    }
   ],
   "source": [
    "import pandas as pd\n",
    "df = pd.read_pickle('/data/theorie/pherbsch/ML4EFT/subproj/theory_data/tt_parton_shower_ctGRe/events_0.pkl.gz',compression='gzip')\n",
    "print(df)"
   ]
  },
  {
   "cell_type": "code",
   "execution_count": 2,
   "metadata": {},
   "outputs": [
    {
     "name": "stdout",
     "output_type": "stream",
     "text": [
      "            pt_t      m_tt         y\n",
      "0       3.769206  3.769206  3.769206\n",
      "1       0.112532  1.474630  0.359393\n",
      "2       0.055651  2.353752  0.554612\n",
      "3       1.057009  2.142254  0.607546\n",
      "4       0.585989  1.673466 -0.105916\n",
      "...          ...       ...       ...\n",
      "99996   0.596425  1.611192 -0.597326\n",
      "99997   0.404952  2.032287 -0.066262\n",
      "99998   0.380376  1.644262  0.604492\n",
      "99999   0.272646  1.494258  0.080878\n",
      "100000  0.181949  1.730351  0.351175\n",
      "\n",
      "[100001 rows x 3 columns]\n"
     ]
    }
   ],
   "source": [
    "import pandas as pd\n",
    "df = pd.read_pickle('/data/theorie/pherbsch/ML4EFT/subproj/code/cluster/downloads/training_data/ttparton_sm/events_0.pkl.gz',compression='gzip')\n",
    "print(df)\n"
   ]
  },
  {
   "cell_type": "code",
   "execution_count": 4,
   "metadata": {},
   "outputs": [
    {
     "data": {
      "text/html": [
       "<div>\n",
       "<style scoped>\n",
       "    .dataframe tbody tr th:only-of-type {\n",
       "        vertical-align: middle;\n",
       "    }\n",
       "\n",
       "    .dataframe tbody tr th {\n",
       "        vertical-align: top;\n",
       "    }\n",
       "\n",
       "    .dataframe thead th {\n",
       "        text-align: right;\n",
       "    }\n",
       "</style>\n",
       "<table border=\"1\" class=\"dataframe\">\n",
       "  <thead>\n",
       "    <tr style=\"text-align: right;\">\n",
       "      <th></th>\n",
       "      <th>pt_e</th>\n",
       "    </tr>\n",
       "  </thead>\n",
       "  <tbody>\n",
       "    <tr>\n",
       "      <th>count</th>\n",
       "      <td>10001.000000</td>\n",
       "    </tr>\n",
       "    <tr>\n",
       "      <th>mean</th>\n",
       "      <td>4.307061</td>\n",
       "    </tr>\n",
       "    <tr>\n",
       "      <th>std</th>\n",
       "      <td>14.613680</td>\n",
       "    </tr>\n",
       "    <tr>\n",
       "      <th>min</th>\n",
       "      <td>0.000039</td>\n",
       "    </tr>\n",
       "    <tr>\n",
       "      <th>25%</th>\n",
       "      <td>0.046663</td>\n",
       "    </tr>\n",
       "    <tr>\n",
       "      <th>50%</th>\n",
       "      <td>0.156576</td>\n",
       "    </tr>\n",
       "    <tr>\n",
       "      <th>75%</th>\n",
       "      <td>0.806628</td>\n",
       "    </tr>\n",
       "    <tr>\n",
       "      <th>max</th>\n",
       "      <td>217.582055</td>\n",
       "    </tr>\n",
       "  </tbody>\n",
       "</table>\n",
       "</div>"
      ],
      "text/plain": [
       "               pt_e\n",
       "count  10001.000000\n",
       "mean       4.307061\n",
       "std       14.613680\n",
       "min        0.000039\n",
       "25%        0.046663\n",
       "50%        0.156576\n",
       "75%        0.806628\n",
       "max      217.582055"
      ]
     },
     "execution_count": 4,
     "metadata": {},
     "output_type": "execute_result"
    }
   ],
   "source": [
    "df.describe()"
   ]
  },
  {
   "cell_type": "code",
   "execution_count": null,
   "metadata": {},
   "outputs": [],
   "source": []
  }
 ],
 "metadata": {
  "kernelspec": {
   "display_name": "madgraph",
   "language": "python",
   "name": "python3"
  },
  "language_info": {
   "codemirror_mode": {
    "name": "ipython",
    "version": 3
   },
   "file_extension": ".py",
   "mimetype": "text/x-python",
   "name": "python",
   "nbconvert_exporter": "python",
   "pygments_lexer": "ipython3",
   "version": "3.10.6"
  },
  "orig_nbformat": 4,
  "vscode": {
   "interpreter": {
    "hash": "1b4773c3c16724ac5d394467cee95f9e1060638b2bb93f3234d9eb5d99317e5a"
   }
  }
 },
 "nbformat": 4,
 "nbformat_minor": 2
}
